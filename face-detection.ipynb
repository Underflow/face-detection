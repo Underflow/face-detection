{
 "cells": [
  {
   "cell_type": "code",
   "execution_count": null,
   "metadata": {
    "collapsed": false
   },
   "outputs": [],
   "source": [
    "%matplotlib inline\n",
    "from pylab import *\n",
    "import dataset\n",
    "import fullyconn\n",
    "from IPython import display"
   ]
  },
  {
   "cell_type": "markdown",
   "metadata": {},
   "source": [
    "# Loading data"
   ]
  },
  {
   "cell_type": "code",
   "execution_count": null,
   "metadata": {
    "collapsed": false
   },
   "outputs": [],
   "source": [
    "data = dataset.load_dataset()\n",
    "train_data = data[:-len(data)/2]\n",
    "train_data = np.reshape(train_data, (len(train_data), 3 * 40 * 40))\n",
    "test_data = data[len(data)/2:]\n",
    "test_data = np.reshape(test_data, (len(test_data), 3 * 40 * 40))"
   ]
  },
  {
   "cell_type": "markdown",
   "metadata": {},
   "source": [
    " # Model plan (fcc autoencoder 1600-30-1600 with MSE loss)"
   ]
  },
  {
   "cell_type": "code",
   "execution_count": null,
   "metadata": {
    "collapsed": true
   },
   "outputs": [],
   "source": [
    "def build_nn():\n",
    "    print(\"Building NN\")\n",
    "    nn = fullyconn.MLP(40 * 40 * 3)\n",
    "    nn.add_layer(\"bottleneck\", 90)\n",
    "    nn.add_layer(\"reconstruction\", 40 * 40 * 3)\n",
    "    return nn"
   ]
  },
  {
   "cell_type": "markdown",
   "metadata": {},
   "source": [
    "# Evaluation function (test set)"
   ]
  },
  {
   "cell_type": "code",
   "execution_count": null,
   "metadata": {
    "collapsed": true
   },
   "outputs": [],
   "source": [
    "def precision(dataset, encode_decode):\n",
    "    # L1 distance between original example and encoded-decoded example\n",
    "    precision = np.absolute(dataset - encode_decode(dataset)).mean()\n",
    "    return precision"
   ]
  },
  {
   "cell_type": "markdown",
   "metadata": {},
   "source": [
    "# Reconstruction visualisation"
   ]
  },
  {
   "cell_type": "code",
   "execution_count": null,
   "metadata": {
    "collapsed": true
   },
   "outputs": [],
   "source": [
    "import Image\n",
    "def show_reconstruction(example, encode_decode):\n",
    "    reconstructed = encode_decode(np.array([example]))\n",
    "    \n",
    "    example = np.array(example.reshape(40, 40, 3), dtype=\"float\")\n",
    "    reconstructed = np.array(reconstructed.reshape(40, 40, 3), dtype=\"float\")\n",
    "    \n",
    "    figure()\n",
    "    subplot(121)\n",
    "    imshow(example, interpolation=\"nearest\")\n",
    "    subplot(122)\n",
    "    imshow(reconstructed, interpolation=\"nearest\")"
   ]
  },
  {
   "cell_type": "code",
   "execution_count": null,
   "metadata": {
    "collapsed": false
   },
   "outputs": [],
   "source": []
  },
  {
   "cell_type": "markdown",
   "metadata": {},
   "source": [
    "# Model training"
   ]
  },
  {
   "cell_type": "code",
   "execution_count": null,
   "metadata": {
    "collapsed": true
   },
   "outputs": [],
   "source": [
    "def train_network(nn, learning_rate, regularization, batch_size, steps):\n",
    "    test_epoch = []\n",
    "    train_epoch = []\n",
    "    train = nn.build_train(learning_rate, regularization)\n",
    "    eval  = nn.build_eval()\n",
    "    for step_id in range(steps):\n",
    "        if step_id % 10 == 0:\n",
    "            display.clear_output(wait=True)\n",
    "            test_precision = precision(test_data, eval)\n",
    "            train_precision = precision(train_data, eval)\n",
    "            \n",
    "            train_epoch.append(train_precision * 100)\n",
    "            test_epoch.append(test_precision * 100)\n",
    "            \n",
    "            x = linspace(0, step_id, len(train_epoch))\n",
    "            \n",
    "            plot(x, test_epoch, 'r')\n",
    "            plot(x, train_epoch, 'b')\n",
    "            for i in range(5):\n",
    "                show_reconstruction(test_data[i], eval)\n",
    "            show()\n",
    "            \n",
    "\n",
    "        for batch_id in range(0, len(train_data) / batch_size):\n",
    "            ts = train_data[batch_id * batch_size: (batch_id + 1) * batch_size] \n",
    "\n",
    "            train(ts, ts)"
   ]
  },
  {
   "cell_type": "code",
   "execution_count": null,
   "metadata": {
    "collapsed": false,
    "scrolled": false
   },
   "outputs": [],
   "source": [
    "nn = build_nn()"
   ]
  },
  {
   "cell_type": "code",
   "execution_count": null,
   "metadata": {
    "collapsed": false,
    "scrolled": false
   },
   "outputs": [],
   "source": [
    "train_network(nn, 0.005, 0.0, 10, 2000)"
   ]
  },
  {
   "cell_type": "code",
   "execution_count": null,
   "metadata": {
    "collapsed": false,
    "scrolled": false
   },
   "outputs": [],
   "source": [
    "train_network(nn, 0.005, 0.01, 10, 2000)"
   ]
  }
 ],
 "metadata": {
  "kernelspec": {
   "display_name": "Python 2",
   "language": "python",
   "name": "python2"
  },
  "language_info": {
   "codemirror_mode": {
    "name": "ipython",
    "version": 2
   },
   "file_extension": ".py",
   "mimetype": "text/x-python",
   "name": "python",
   "nbconvert_exporter": "python",
   "pygments_lexer": "ipython2",
   "version": "2.7.6"
  }
 },
 "nbformat": 4,
 "nbformat_minor": 0
}
